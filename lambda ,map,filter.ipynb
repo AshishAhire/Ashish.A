{
 "cells": [
  {
   "cell_type": "code",
   "execution_count": 16,
   "id": "c5d843d1",
   "metadata": {},
   "outputs": [
    {
     "name": "stdout",
     "output_type": "stream",
     "text": [
      "10\n",
      "[35]\n"
     ]
    }
   ],
   "source": [
    "#Write a Python program to create a lambda function that adds 25 to a given number passed in as an argument.\n",
    "\n",
    "\n",
    "l= [int(input())]\n",
    "d = list(map(lambda n:n+25,l))\n",
    "print(d)\n"
   ]
  },
  {
   "cell_type": "code",
   "execution_count": 10,
   "id": "0f58b821",
   "metadata": {},
   "outputs": [
    {
     "name": "stdout",
     "output_type": "stream",
     "text": [
      "[3, 6, 9, 12, 15, 18, 21]\n"
     ]
    }
   ],
   "source": [
    "#Write a Python program to triple all numbers of a given list of integers. Use Python map.\n",
    "\n",
    "\n",
    "d = [1,2,3,4,5,6,7]\n",
    "triple = list(map(lambda x:x+x+x,d))\n",
    "print(triple)"
   ]
  },
  {
   "cell_type": "code",
   "execution_count": 15,
   "id": "757f2b53",
   "metadata": {},
   "outputs": [
    {
     "name": "stdout",
     "output_type": "stream",
     "text": [
      "[16, 25, 4, 81]\n"
     ]
    }
   ],
   "source": [
    "#Write a Python program to square the elements of a list using map() function.\n",
    "\n",
    "d = [4,5,2,9]\n",
    "triple = list(map(lambda x:x*x,d))\n",
    "print(triple)"
   ]
  },
  {
   "cell_type": "code",
   "execution_count": null,
   "id": "2e9ace2b",
   "metadata": {},
   "outputs": [],
   "source": []
  }
 ],
 "metadata": {
  "kernelspec": {
   "display_name": "Python 3",
   "language": "python",
   "name": "python3"
  }
 },
 "nbformat": 4,
 "nbformat_minor": 5
}

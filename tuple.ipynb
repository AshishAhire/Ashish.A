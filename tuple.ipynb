{
 "cells": [
  {
   "cell_type": "code",
   "execution_count": 29,
   "id": "487974af",
   "metadata": {},
   "outputs": [
    {
     "name": "stdout",
     "output_type": "stream",
     "text": [
      "enter no of rows : 5\n",
      "2 5\n",
      "1 2\n",
      "4 4\n",
      "2 3\n",
      "2 1\n",
      "[(2, 1), (1, 2), (2, 3), (4, 4), (2, 5)]\n"
     ]
    }
   ],
   "source": [
    "#Write a Python program to get a list, sorted in increasing order \n",
    "#by the last element in each tuple from a given list of non-empty tuples.\n",
    "def end(n):\n",
    "    return n[-1]\n",
    "tupList = list(tuple(map(int,input().split())) for r in range(int(input('enter no of rows : '))))\n",
    "tupList=sorted(tupList, key=end)\n",
    "print(tupList)"
   ]
  },
  {
   "cell_type": "code",
   "execution_count": null,
   "id": "71c0c279",
   "metadata": {},
   "outputs": [],
   "source": []
  }
 ],
 "metadata": {
  "kernelspec": {
   "display_name": "Python 3",
   "language": "python",
   "name": "python3"
  },
  "language_info": {
   "codemirror_mode": {
    "name": "ipython",
    "version": 3
   },
   "file_extension": ".py",
   "mimetype": "text/x-python",
   "name": "python",
   "nbconvert_exporter": "python",
   "pygments_lexer": "ipython3",
   "version": "3.8.8"
  }
 },
 "nbformat": 4,
 "nbformat_minor": 5
}
